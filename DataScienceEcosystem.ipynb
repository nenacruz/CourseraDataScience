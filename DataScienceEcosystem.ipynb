{
 "cells": [
  {
   "cell_type": "markdown",
   "id": "c7f058d5",
   "metadata": {},
   "source": [
    "# Data Science Tools and Ecosystem"
   ]
  },
  {
   "cell_type": "markdown",
   "id": "2d0a604c",
   "metadata": {},
   "source": [
    "In this notebook, Data Science Tools and Ecosystem are summarized."
   ]
  },
  {
   "cell_type": "markdown",
   "id": "09c68fd7",
   "metadata": {},
   "source": [
    "__Objectives__\n",
    "* Popular Languages for Data Scientits\n",
    "* Commonly used libraries\n",
    "* Data Science tools\n",
    "* Exmaples of arithmatic expressions"
   ]
  },
  {
   "cell_type": "markdown",
   "id": "c72a6fd6",
   "metadata": {},
   "source": [
    "Some of the popular languages that Data Scientists use are:\n",
    "1. Python\n",
    "2. R\n",
    "3. SQL\n",
    "4. Java\n",
    "5. Julia\n",
    "6. Scala\n",
    "7. C/C++\n",
    "8. JavaScript"
   ]
  },
  {
   "cell_type": "markdown",
   "id": "79719904",
   "metadata": {},
   "source": [
    "Some of the commonly used libraries used by Data Scientists include:\n",
    "1. Pandas\n",
    "2. Matplotlib\n",
    "3. NumPy\n",
    "4. TensorFLow\n",
    "5. Scikit-learn\n",
    "6. SciPy\n",
    "7. PyTorch\n",
    "8. Keras\n",
    "9. Seaborn"
   ]
  },
  {
   "cell_type": "markdown",
   "id": "0b3ae49a",
   "metadata": {},
   "source": [
    "|Data Sceince Tools|\n",
    "|---|\n",
    "|RStudio|\n",
    "|Apache Spark| \n",
    "|TensorFlow|"
   ]
  },
  {
   "cell_type": "markdown",
   "id": "f64a01a0",
   "metadata": {},
   "source": [
    "### Below are a few examples of evaluating arithmetic expressions in Python."
   ]
  },
  {
   "cell_type": "code",
   "execution_count": 5,
   "id": "89745d50",
   "metadata": {},
   "outputs": [
    {
     "data": {
      "text/plain": [
       "17.0"
      ]
     },
     "execution_count": 5,
     "metadata": {},
     "output_type": "execute_result"
    }
   ],
   "source": [
    "# This a simple arithmetic expression to mutiply then add integers.\n",
    "(3*4)+5."
   ]
  },
  {
   "cell_type": "code",
   "execution_count": 6,
   "id": "6b03050e",
   "metadata": {},
   "outputs": [
    {
     "data": {
      "text/plain": [
       "3.3333333333333335"
      ]
     },
     "execution_count": 6,
     "metadata": {},
     "output_type": "execute_result"
    }
   ],
   "source": [
    "# This will convert 200 minutes to hours by diving by 60.\n",
    "200/60"
   ]
  },
  {
   "cell_type": "markdown",
   "id": "9431743a",
   "metadata": {},
   "source": [
    "## Author\n",
    "Lorena Cruz"
   ]
  }
 ],
 "metadata": {
  "kernelspec": {
   "display_name": "Python 3 (ipykernel)",
   "language": "python",
   "name": "python3"
  },
  "language_info": {
   "codemirror_mode": {
    "name": "ipython",
    "version": 3
   },
   "file_extension": ".py",
   "mimetype": "text/x-python",
   "name": "python",
   "nbconvert_exporter": "python",
   "pygments_lexer": "ipython3",
   "version": "3.11.5"
  }
 },
 "nbformat": 4,
 "nbformat_minor": 5
}
